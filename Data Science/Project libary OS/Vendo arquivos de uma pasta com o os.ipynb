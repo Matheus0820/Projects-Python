{
 "cells": [
  {
   "cell_type": "code",
   "execution_count": 4,
   "id": "98a33ff0",
   "metadata": {},
   "outputs": [
    {
     "name": "stdout",
     "output_type": "stream",
     "text": [
      ".cache\n",
      ".docker\n",
      ".eclipse\n",
      ".git-for-windows-updater\n",
      ".ipynb_checkpoints\n",
      ".ipython\n",
      ".jupyter\n",
      ".nbi\n",
      ".p2\n",
      ".vscode\n",
      ".wdm\n",
      "3D Objects\n",
      "Ambiente de Impressão\n",
      "Ambiente de Rede\n",
      "anaconda3\n",
      "AppData\n",
      "Configurações Locais\n",
      "Contacts\n",
      "Cookies\n",
      "Dados de Aplicativos\n",
      "Desktop\n",
      "Documents\n",
      "Downloads\n",
      "eclipse\n",
      "eclipse-workspace\n",
      "Favorites\n",
      "IntelGraphicsProfiles\n",
      "Links\n",
      "Menu Iniciar\n",
      "Meus Documentos\n",
      "Modelos\n",
      "Music\n",
      "NTUSER.DAT\n",
      "ntuser.dat.LOG1\n",
      "ntuser.dat.LOG2\n",
      "NTUSER.DAT{708943a6-0e80-11ed-9536-b05216ffd584}.TM.blf\n",
      "NTUSER.DAT{708943a6-0e80-11ed-9536-b05216ffd584}.TMContainer00000000000000000001.regtrans-ms\n",
      "NTUSER.DAT{708943a6-0e80-11ed-9536-b05216ffd584}.TMContainer00000000000000000002.regtrans-ms\n",
      "ntuser.ini\n",
      "OneDrive\n",
      "Pictures\n",
      "Recent\n",
      "Saved Games\n",
      "sBotics\n",
      "Searches\n",
      "SendTo\n",
      "Untitled.ipynb\n",
      "Videos\n"
     ]
    }
   ],
   "source": [
    "import os as gen\n",
    "\n",
    "caminho1 = \"C:/Users/Aluno/Downloads/\"\n",
    "caminho2 = \"C:/Users/Aluno/\"\n",
    "\n",
    "listPath1 = gen.listdir(caminho2)\n",
    "\n",
    "for file in listPath1: \n",
    "    print(file)"
   ]
  },
  {
   "cell_type": "code",
   "execution_count": null,
   "id": "37019bf4",
   "metadata": {},
   "outputs": [],
   "source": []
  }
 ],
 "metadata": {
  "kernelspec": {
   "display_name": "Python 3 (ipykernel)",
   "language": "python",
   "name": "python3"
  },
  "language_info": {
   "codemirror_mode": {
    "name": "ipython",
    "version": 3
   },
   "file_extension": ".py",
   "mimetype": "text/x-python",
   "name": "python",
   "nbconvert_exporter": "python",
   "pygments_lexer": "ipython3",
   "version": "3.9.12"
  }
 },
 "nbformat": 4,
 "nbformat_minor": 5
}
