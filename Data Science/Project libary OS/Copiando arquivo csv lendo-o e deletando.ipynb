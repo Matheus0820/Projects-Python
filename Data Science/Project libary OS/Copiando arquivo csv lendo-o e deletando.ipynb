{
 "cells": [
  {
   "cell_type": "code",
   "execution_count": 7,
   "id": "a23fef60",
   "metadata": {},
   "outputs": [
    {
     "name": "stdout",
     "output_type": "stream",
     "text": [
      "    0         1      2\n",
      "0  id      name  idade\n",
      "1   1   Matheus     17\n",
      "2   2     Ramos     18\n",
      "3   3  Ferreira     20\n",
      "4   4        da     25\n",
      "5   5     Silva     16\n"
     ]
    }
   ],
   "source": [
    "import os as gen\n",
    "import pandas as pd\n",
    "import shutil as st\n",
    "\n",
    "caminho = \"C:/Users/Aluno/Downloads/\" #Caminho da pasta Downloads\n",
    "\n",
    "list_path = gen.listdir(caminho) #Fazendo uma lista com os arquivo da pasta Download\n",
    "\n",
    "if gen.path.exists(\"database.csv\"): #Checando se o arquivo database.csv já existe na pasta do projeto\n",
    "    gen.remove(\"database.csv\") #Removendo arquivo database.csv\n",
    "\n",
    "for file in list_path: #laço de repetição que passa por todos os arquivos da pasta Download\n",
    "    if \".csv\" in file: #Checa se o arquivo possui a extenção .csv\n",
    "        if \"database\" in file: #Checa se no nome do arquivo tem \"database\"\n",
    "            st.copyfile(\"C:/Users/Aluno/Downloads/\" + file, \"C:/Users/Aluno/Documents/Jupyter Project/Project libary OS/database.csv\") \n",
    "            \n",
    "dataset = pd.read_csv(\"database.csv\", delimiter = \";\", header = None) #Lendo arquivo e ignorando o cabeçalho\n",
    "\n",
    "print(dataset) #printando conteudo lido\n",
    "\n",
    "gen.remove(\"database.csv\") #Removendo arquivo database.csv\n",
    "\n"
   ]
  },
  {
   "cell_type": "code",
   "execution_count": null,
   "id": "e89506d4",
   "metadata": {},
   "outputs": [],
   "source": []
  },
  {
   "cell_type": "code",
   "execution_count": null,
   "id": "0e4de1ba",
   "metadata": {},
   "outputs": [],
   "source": []
  },
  {
   "cell_type": "code",
   "execution_count": null,
   "id": "f3070d42",
   "metadata": {},
   "outputs": [],
   "source": []
  }
 ],
 "metadata": {
  "kernelspec": {
   "display_name": "Python 3 (ipykernel)",
   "language": "python",
   "name": "python3"
  },
  "language_info": {
   "codemirror_mode": {
    "name": "ipython",
    "version": 3
   },
   "file_extension": ".py",
   "mimetype": "text/x-python",
   "name": "python",
   "nbconvert_exporter": "python",
   "pygments_lexer": "ipython3",
   "version": "3.9.12"
  }
 },
 "nbformat": 4,
 "nbformat_minor": 5
}
