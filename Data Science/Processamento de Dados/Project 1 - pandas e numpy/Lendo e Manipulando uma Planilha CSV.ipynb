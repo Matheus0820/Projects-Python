{
 "cells": [
  {
   "cell_type": "code",
   "execution_count": 25,
   "metadata": {
    "scrolled": true
   },
   "outputs": [
    {
     "name": "stdout",
     "output_type": "stream",
     "text": [
      "\n",
      " print(\"dataset\")\n",
      "   0  1   2\n",
      "0  1  M  17\n",
      "1  2  a  17\n",
      "2  3  t  17\n",
      "3  4  h  17\n",
      "4  5  e  17\n",
      "5  6  u  17\n",
      "6  7  s  17\n",
      "\n",
      " print(\"X\")\n",
      "[[1 'M' 17]\n",
      " [2 'a' 17]\n",
      " [3 't' 17]\n",
      " [4 'h' 17]\n",
      " [5 'e' 17]\n",
      " [6 'u' 17]\n",
      " [7 's' 17]]\n",
      "\n",
      " dataset.head()\n"
     ]
    },
    {
     "data": {
      "text/html": [
       "<div>\n",
       "<style scoped>\n",
       "    .dataframe tbody tr th:only-of-type {\n",
       "        vertical-align: middle;\n",
       "    }\n",
       "\n",
       "    .dataframe tbody tr th {\n",
       "        vertical-align: top;\n",
       "    }\n",
       "\n",
       "    .dataframe thead th {\n",
       "        text-align: right;\n",
       "    }\n",
       "</style>\n",
       "<table border=\"1\" class=\"dataframe\">\n",
       "  <thead>\n",
       "    <tr style=\"text-align: right;\">\n",
       "      <th></th>\n",
       "      <th>0</th>\n",
       "      <th>1</th>\n",
       "      <th>2</th>\n",
       "    </tr>\n",
       "  </thead>\n",
       "  <tbody>\n",
       "    <tr>\n",
       "      <td>0</td>\n",
       "      <td>1</td>\n",
       "      <td>M</td>\n",
       "      <td>17</td>\n",
       "    </tr>\n",
       "    <tr>\n",
       "      <td>1</td>\n",
       "      <td>2</td>\n",
       "      <td>a</td>\n",
       "      <td>17</td>\n",
       "    </tr>\n",
       "    <tr>\n",
       "      <td>2</td>\n",
       "      <td>3</td>\n",
       "      <td>t</td>\n",
       "      <td>17</td>\n",
       "    </tr>\n",
       "    <tr>\n",
       "      <td>3</td>\n",
       "      <td>4</td>\n",
       "      <td>h</td>\n",
       "      <td>17</td>\n",
       "    </tr>\n",
       "    <tr>\n",
       "      <td>4</td>\n",
       "      <td>5</td>\n",
       "      <td>e</td>\n",
       "      <td>17</td>\n",
       "    </tr>\n",
       "  </tbody>\n",
       "</table>\n",
       "</div>"
      ],
      "text/plain": [
       "   0  1   2\n",
       "0  1  M  17\n",
       "1  2  a  17\n",
       "2  3  t  17\n",
       "3  4  h  17\n",
       "4  5  e  17"
      ]
     },
     "execution_count": 25,
     "metadata": {},
     "output_type": "execute_result"
    }
   ],
   "source": [
    "#Lendo dados de um arquivo CSV\n",
    "\n",
    "import pandas as pd #Importando a bibliotaca Pandas\n",
    "import numpy as np #Importando a bibliotaca Numpy\n",
    "\n",
    "dataset = pd.read_csv('database.csv', delimiter=';', header=None) #Lendo um arquivo csv com o comendo \n",
    "#\"read_csv('nomeArquivo', delimiter='delimitadorDeColunas')\" da bibliotada pandas e guardando a leitura na variavel dataset\n",
    "\n",
    "X = dataset.iloc[:,:].values #Alocando o valor da litura em uma matriz X \n",
    "\n",
    "print('\\n print(\"dataset\")')\n",
    "print(dataset) #printa os dados lidos\n",
    "\n",
    "print('\\n print(\"X\")')\n",
    "print(X); #printa os dados em formato de MATRIZ(Como se estivesse dentro de uma)\n",
    "\n",
    "print('\\n dataset.head()')\n",
    "dataset.head() #printa os dados em uma tabelinha estilizada, o que não pode fazer com X, pois dá erro\n"
   ]
  },
  {
   "cell_type": "code",
   "execution_count": 31,
   "metadata": {},
   "outputs": [
    {
     "name": "stdout",
     "output_type": "stream",
     "text": [
      "[['1' 'M' '13.0']\n",
      " ['2' 'a' '14.25']\n",
      " ['3' 't' '20.0']\n",
      " ['4' 'h' '14.25']\n",
      " ['5' 'e' '5.0']\n",
      " ['6' 'u' '14.25']\n",
      " ['7' 's' '19.0']]\n"
     ]
    }
   ],
   "source": [
    "#Manipulando uma Planilha CSV\n",
    "\n",
    "import pandas as pd\n",
    "import numpy as np\n",
    "\n",
    "dataset = pd.read_csv('database.csv', delimiter=';', header=None)\n",
    "X = dataset.iloc[:,:].values\n",
    "\n",
    "from sklearn.impute import SimpleImputer\n",
    "imputer = SimpleImputer(missing_values=np.nan, strategy='mean')\n",
    "imputer = imputer.fit(X[:,2:4])\n",
    "\n",
    "X = imputer.transform(X[:,2:4]).astype(str)\n",
    "X = np.insert(X, 0, dataset.iloc[:,0].values, axis=1)\n",
    "X = np.insert(X, 1, dataset.iloc[:,1].values, axis=1)\n",
    "\n",
    "print(X)"
   ]
  },
  {
   "cell_type": "code",
   "execution_count": null,
   "metadata": {},
   "outputs": [],
   "source": []
  },
  {
   "cell_type": "code",
   "execution_count": null,
   "metadata": {},
   "outputs": [],
   "source": []
  }
 ],
 "metadata": {
  "kernelspec": {
   "display_name": "Python 3",
   "language": "python",
   "name": "python3"
  },
  "language_info": {
   "codemirror_mode": {
    "name": "ipython",
    "version": 3
   },
   "file_extension": ".py",
   "mimetype": "text/x-python",
   "name": "python",
   "nbconvert_exporter": "python",
   "pygments_lexer": "ipython3",
   "version": "3.7.4"
  }
 },
 "nbformat": 4,
 "nbformat_minor": 2
}
