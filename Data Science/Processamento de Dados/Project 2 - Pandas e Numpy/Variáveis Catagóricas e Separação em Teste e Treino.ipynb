{
 "cells": [
  {
   "cell_type": "code",
   "execution_count": 6,
   "metadata": {
    "scrolled": true
   },
   "outputs": [
    {
     "name": "stdout",
     "output_type": "stream",
     "text": [
      "Matriz X\n",
      "[['Matheus' 10 5 4 10]\n",
      " ['Ramos' 7 8 9 10]\n",
      " ['Ferreira' 3 4 10 5]\n",
      " ['Silva' 2 1 7 9]\n",
      " ['Theus' 3 10 10 9]]\n",
      "\n",
      "\n",
      "Matriz y\n",
      "[1 1 0 0 1]\n",
      "\n",
      "\n",
      "\n",
      "Matriz X\n",
      "[['Matheus' 10 5 4 10]\n",
      " ['Ramos' 7 8 9 10]\n",
      " ['Ferreira' 3 4 10 5]\n",
      " ['Silva' 2 1 7 9]\n",
      " ['Theus' 3 10 10 9]]\n",
      "\n",
      "\n",
      "\n",
      "Matriz X com a coluna um modificada em ID\n",
      "[[1 10 5 4 10]\n",
      " [2 7 8 9 10]\n",
      " [0 3 4 10 5]\n",
      " [3 2 1 7 9]\n",
      " [4 3 10 10 9]]\n",
      "\n",
      "\n",
      "\n",
      "Matriz X com IDs modificados para Binários\n",
      "[[0 0 1 0 0 10 5 4 10]\n",
      " [1 0 0 0 0 7 8 9 10]\n",
      " [0 1 0 0 0 3 4 10 5]\n",
      " [0 0 0 1 0 2 1 7 9]\n",
      " [0 0 0 0 1 3 10 10 9]]\n"
     ]
    }
   ],
   "source": [
    "#Variáveis Catagóricas\n",
    "import pandas as pd\n",
    "import numpy as np\n",
    "\n",
    "bs = pd.read_csv('database.csv', delimiter=';')\n",
    "X = bs.iloc[:,:-1].values\n",
    "y = bs.iloc[:,-1].values\n",
    "print(\"Matriz X\")\n",
    "print(X)\n",
    "print(\"\\n\")\n",
    "print(\"Matriz y\")\n",
    "print(y)\n",
    "\n",
    "from sklearn.impute import SimpleImputer\n",
    "imputer = SimpleImputer(missing_values = np.nan, strategy = 'median')\n",
    "imputer = imputer.fit_transform(X[:,1:])\n",
    "print(\"\\n\\n\")\n",
    "print(\"Matriz X\")\n",
    "print(X);\n",
    "\n",
    "\n",
    "from sklearn.preprocessing import LabelEncoder\n",
    "labelencoder_X = LabelEncoder()\n",
    "X[:, 0] = labelencoder_X.fit_transform(X[:, 0])\n",
    "print(\"\\n\\n\")\n",
    "print(\"Matriz X com a coluna um modificada em ID\")\n",
    "print(X)\n",
    "\n",
    "D = pd.get_dummies(X[:, 0])\n",
    "X = X[:,1:]\n",
    "X = np.insert(X, 0, D.values, axis = 1)\n",
    "print(\"\\n\\n\")\n",
    "print(\"Matriz X com IDs modificados para Binários\")\n",
    "print(X)"
   ]
  },
  {
   "cell_type": "code",
   "execution_count": 13,
   "metadata": {},
   "outputs": [
    {
     "name": "stdout",
     "output_type": "stream",
     "text": [
      "\n",
      "\n",
      "\n",
      "Matriz XTrein\n",
      "[[0 1 0 0 0 3 4 10 5]\n",
      " [1 0 0 0 0 7 8 9 10]\n",
      " [0 0 1 0 0 10 5 4 10]\n",
      " [0 0 0 1 0 2 1 7 9]]\n",
      "\n",
      "\n",
      "Matriz XTest\n",
      "[[0 0 0 0 1 3 10 10 9]]\n",
      "\n",
      "\n"
     ]
    }
   ],
   "source": [
    "#Separação em Teste e Treino\n",
    "import pandas as pd\n",
    "import numpy as np\n",
    "\n",
    "bs = pd.read_csv('database.csv', delimiter=';')\n",
    "X = bs.iloc[:,:-1].values\n",
    "y = bs.iloc[:,-1].values\n",
    "\n",
    "from sklearn.impute import SimpleImputer\n",
    "imputer = SimpleImputer(missing_values = np.nan, strategy = 'median')\n",
    "imputer = imputer.fit_transform(X[:,1:])\n",
    "\n",
    "\n",
    "from sklearn.preprocessing import LabelEncoder\n",
    "labelencoder_X = LabelEncoder()\n",
    "X[:, 0] = labelencoder_X.fit_transform(X[:, 0])\n",
    "\n",
    "D = pd.get_dummies(X[:, 0])\n",
    "X = X[:,1:]\n",
    "X = np.insert(X, 0, D.values, axis = 1)\n",
    "\n",
    "#Parte que faz a Separação em Teste e Treino\n",
    "from sklearn.model_selection import train_test_split\n",
    "XTrein, XTest, yTrain, yTest = train_test_split(X, y, test_size = 0.2)\n",
    "print(\"\\n\\n\")\n",
    "print(\"Matriz XTrein\")\n",
    "print(XTrein)\n",
    "print(\"\\n\")\n",
    "print(\"Matriz XTest\")\n",
    "print(XTest)\n",
    "print(\"\\n\")\n",
    "#print(\"Matriz yTrein\")\n",
    "#print(yTrein)\n",
    "#print(\"\\n\")\n",
    "#print(\"Matriz yTest\")\n",
    "#print(yTest)\n",
    "#print(\"\\n\")"
   ]
  },
  {
   "cell_type": "code",
   "execution_count": null,
   "metadata": {},
   "outputs": [],
   "source": []
  }
 ],
 "metadata": {
  "kernelspec": {
   "display_name": "Python 3",
   "language": "python",
   "name": "python3"
  },
  "language_info": {
   "codemirror_mode": {
    "name": "ipython",
    "version": 3
   },
   "file_extension": ".py",
   "mimetype": "text/x-python",
   "name": "python",
   "nbconvert_exporter": "python",
   "pygments_lexer": "ipython3",
   "version": "3.7.4"
  }
 },
 "nbformat": 4,
 "nbformat_minor": 2
}
