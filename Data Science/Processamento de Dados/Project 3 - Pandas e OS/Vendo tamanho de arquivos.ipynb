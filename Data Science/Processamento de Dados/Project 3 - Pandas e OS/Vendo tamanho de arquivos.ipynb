{
 "cells": [
  {
   "cell_type": "code",
   "execution_count": 21,
   "metadata": {},
   "outputs": [
    {
     "name": "stdout",
     "output_type": "stream",
     "text": [
      "Arquivo: C:/Users/Theus/Downloads/Aula 01 - Os seis macetes que poucos alunos conhecem(720P_HD).mp4 - Tamanho: 612.514034 mB\n",
      "Arquivo: C:/Users/Theus/Downloads/Maple 17.0 x86(1).rar - Tamanho: 622.083989 mB\n",
      "Arquivo: C:/Users/Theus/Downloads/Maple 17.0 x86.rar - Tamanho: 622.083989 mB\n"
     ]
    }
   ],
   "source": [
    "import pandas as pd\n",
    "import os\n",
    "\n",
    "caminho = \"C:/Users/Theus/Downloads/\"\n",
    "list_path = os.listdir(caminho)\n",
    "\n",
    "for file in list_path:\n",
    "        st = os.stat(caminho + file)\n",
    "        size = st.st_size/1000000\n",
    "        if size > 600:\n",
    "            arq_name = caminho + file\n",
    "            text = \"Arquivo: {0} - Tamanho: {1} mB\".format(arq_name, size)\n",
    "            #os.remove(arq_name) #Remove Arquivos\n",
    "            print(text) # + \" => Removido\")\n",
    "        \n",
    "        "
   ]
  },
  {
   "cell_type": "code",
   "execution_count": null,
   "metadata": {},
   "outputs": [],
   "source": []
  }
 ],
 "metadata": {
  "kernelspec": {
   "display_name": "Python 3",
   "language": "python",
   "name": "python3"
  },
  "language_info": {
   "codemirror_mode": {
    "name": "ipython",
    "version": 3
   },
   "file_extension": ".py",
   "mimetype": "text/x-python",
   "name": "python",
   "nbconvert_exporter": "python",
   "pygments_lexer": "ipython3",
   "version": "3.7.4"
  }
 },
 "nbformat": 4,
 "nbformat_minor": 2
}
